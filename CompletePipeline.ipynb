{
 "cells": [
  {
   "cell_type": "code",
   "execution_count": 103,
   "metadata": {},
   "outputs": [],
   "source": [
    "import pandas as pd\n",
    "import numpy as np\n",
    "import scipy.stats as stats\n",
    "import math\n",
    "from tqdm import tqdm\n",
    "from sklearn.preprocessing import RobustScaler\n",
    "from sklearn.base import BaseEstimator, TransformerMixin\n",
    "from sklearn.svm import SVC\n",
    "from sklearn.neighbors import KNeighborsClassifier\n",
    "from sklearn.pipeline import FeatureUnion, Pipeline\n",
    "from sklearn.linear_model import LogisticRegression\n",
    "from sklearn.discriminant_analysis import QuadraticDiscriminantAnalysis\n",
    "from sklearn.linear_model import LogisticRegression\n",
    "from sklearn.metrics import classification_report\n",
    "from sklearn.model_selection import KFold, cross_val_score, train_test_split\n",
    "\n",
    "from catboost import CatBoostClassifier\n",
    "from lightgbm import LGBMClassifier\n",
    "from xgboost import XGBClassifier\n",
    "\n",
    "from hyperopt import Trials, STATUS_OK, tpe, hp, fmin, STATUS_FAIL, space_eval\n",
    "\n",
    "import warnings\n",
    "warnings.filterwarnings('ignore')"
   ]
  },
  {
   "cell_type": "markdown",
   "metadata": {},
   "source": [
    "## Loading Data"
   ]
  },
  {
   "cell_type": "code",
   "execution_count": 3,
   "metadata": {},
   "outputs": [
    {
     "data": {
      "text/html": [
       "<div>\n",
       "<style scoped>\n",
       "    .dataframe tbody tr th:only-of-type {\n",
       "        vertical-align: middle;\n",
       "    }\n",
       "\n",
       "    .dataframe tbody tr th {\n",
       "        vertical-align: top;\n",
       "    }\n",
       "\n",
       "    .dataframe thead th {\n",
       "        text-align: right;\n",
       "    }\n",
       "</style>\n",
       "<table border=\"1\" class=\"dataframe\">\n",
       "  <thead>\n",
       "    <tr style=\"text-align: right;\">\n",
       "      <th></th>\n",
       "      <th>Temperature</th>\n",
       "      <th>RelativeLuminosity</th>\n",
       "      <th>RelativeRadius</th>\n",
       "      <th>ApparentMagnitude</th>\n",
       "      <th>Color</th>\n",
       "      <th>SpectralClass</th>\n",
       "      <th>Type</th>\n",
       "    </tr>\n",
       "  </thead>\n",
       "  <tbody>\n",
       "    <tr>\n",
       "      <th>0</th>\n",
       "      <td>3068</td>\n",
       "      <td>0.002400</td>\n",
       "      <td>0.1700</td>\n",
       "      <td>16.12</td>\n",
       "      <td>Red</td>\n",
       "      <td>M</td>\n",
       "      <td>0</td>\n",
       "    </tr>\n",
       "    <tr>\n",
       "      <th>1</th>\n",
       "      <td>3042</td>\n",
       "      <td>0.000500</td>\n",
       "      <td>0.1542</td>\n",
       "      <td>16.60</td>\n",
       "      <td>Red</td>\n",
       "      <td>M</td>\n",
       "      <td>0</td>\n",
       "    </tr>\n",
       "    <tr>\n",
       "      <th>2</th>\n",
       "      <td>2600</td>\n",
       "      <td>0.000300</td>\n",
       "      <td>0.1020</td>\n",
       "      <td>18.70</td>\n",
       "      <td>Red</td>\n",
       "      <td>M</td>\n",
       "      <td>0</td>\n",
       "    </tr>\n",
       "    <tr>\n",
       "      <th>3</th>\n",
       "      <td>2800</td>\n",
       "      <td>0.000200</td>\n",
       "      <td>0.1600</td>\n",
       "      <td>16.65</td>\n",
       "      <td>Red</td>\n",
       "      <td>M</td>\n",
       "      <td>0</td>\n",
       "    </tr>\n",
       "    <tr>\n",
       "      <th>4</th>\n",
       "      <td>1939</td>\n",
       "      <td>0.000138</td>\n",
       "      <td>0.1030</td>\n",
       "      <td>20.06</td>\n",
       "      <td>Red</td>\n",
       "      <td>M</td>\n",
       "      <td>0</td>\n",
       "    </tr>\n",
       "  </tbody>\n",
       "</table>\n",
       "</div>"
      ],
      "text/plain": [
       "   Temperature  RelativeLuminosity  RelativeRadius  ApparentMagnitude Color  \\\n",
       "0         3068            0.002400          0.1700              16.12   Red   \n",
       "1         3042            0.000500          0.1542              16.60   Red   \n",
       "2         2600            0.000300          0.1020              18.70   Red   \n",
       "3         2800            0.000200          0.1600              16.65   Red   \n",
       "4         1939            0.000138          0.1030              20.06   Red   \n",
       "\n",
       "  SpectralClass  Type  \n",
       "0             M     0  \n",
       "1             M     0  \n",
       "2             M     0  \n",
       "3             M     0  \n",
       "4             M     0  "
      ]
     },
     "execution_count": 3,
     "metadata": {},
     "output_type": "execute_result"
    }
   ],
   "source": [
    "def load_data():\n",
    "\n",
    "    column_names = ['Temperature', \n",
    "                   'RelativeLuminosity',\n",
    "                   'RelativeRadius',\n",
    "                   'ApparentMagnitude',\n",
    "                   'Color',\n",
    "                   'SpectralClass',\n",
    "                   'Type']\n",
    "    return pd.read_csv('Stars.csv', names=column_names, header=0)\n",
    "\n",
    "df = load_data()\n",
    "df.head()"
   ]
  },
  {
   "cell_type": "markdown",
   "metadata": {},
   "source": [
    "## Splitting the data for training and validation"
   ]
  },
  {
   "cell_type": "code",
   "execution_count": 68,
   "metadata": {},
   "outputs": [],
   "source": [
    "X_train, X_test, y_train, y_test = train_test_split(df.drop(columns='Type'), df['Type'],\n",
    "                                                    test_size=0.30, random_state=1,\n",
    "                                                    stratify= df['Type'])"
   ]
  },
  {
   "cell_type": "markdown",
   "metadata": {},
   "source": [
    "## Constructing Custom Transformer"
   ]
  },
  {
   "cell_type": "code",
   "execution_count": 5,
   "metadata": {},
   "outputs": [],
   "source": [
    "class NumericalFeatureCleaner(BaseEstimator, TransformerMixin):\n",
    "    #Class Constructor\n",
    "    def __init__(self):\n",
    "        self._scalar = RobustScaler()\n",
    "        return None\n",
    "\n",
    "        \n",
    "    # Return self nothing else to do here\n",
    "    def fit(self, X, y =None):\n",
    "        X = self._scalar.fit(X)\n",
    "        return self\n",
    "\n",
    "    \n",
    "    def remove_outliers(self, X):\n",
    "        for col in X.columns:\n",
    "            Q1 = df[col].quantile(0.2)\n",
    "            Q3 = df[col].quantile(0.8)\n",
    "            IQR = Q3 - Q1\n",
    "            # Adjusting outliers with their percentile values\n",
    "\n",
    "            low = Q1 - 1.5 * IQR\n",
    "            high = Q3 + 1.5 * IQR\n",
    "\n",
    "            X[col] = np.where(X[col] < low, low, X[col])\n",
    "            X[col] = np.where(X[col] > high, high, X[col])\n",
    "\n",
    "        return X\n",
    "\n",
    "\n",
    "        # Method calls several cleaner functions\n",
    "    def transform(self, X, y = None):\n",
    "       \n",
    "        # Removing Outliers\n",
    "        X = self.remove_outliers(X)\n",
    "\n",
    "        \n",
    "        # Scaling Features\n",
    "        X = pd.DataFrame(self._scalar.transform(X), columns=X.columns, index=X.index)\n",
    "        \n",
    "        return X"
   ]
  },
  {
   "cell_type": "code",
   "execution_count": 6,
   "metadata": {},
   "outputs": [],
   "source": [
    "class CategoricalFeatureCleaner(BaseEstimator, TransformerMixin):\n",
    "    def __init__(self):\n",
    "        return None\n",
    "    \n",
    "    \n",
    "    def fit(self, X, y=None):\n",
    "        return self\n",
    "    \n",
    "    \n",
    "    def get_features(self):\n",
    "        return self.column_names\n",
    "    \n",
    "    \n",
    "    def catToDummy(self, X):\n",
    "        X = pd.get_dummies(X)\n",
    "        return X\n",
    "    \n",
    "    \n",
    "    def __formatColor(self, X):\n",
    "        X = re.sub(\"[^A-Za-z]\", \"\", x.lower())\n",
    "        return X\n",
    "    \n",
    "    \n",
    "    def transform(self, X, y=None):\n",
    "        \n",
    "        X = self.catToDummy(X)\n",
    "        \n",
    "        return X\n",
    "        "
   ]
  },
  {
   "cell_type": "code",
   "execution_count": 7,
   "metadata": {},
   "outputs": [],
   "source": [
    "numerical_columns = ['Temperature', 'RelativeLuminosity', 'RelativeRadius', 'ApparentMagnitude']\n",
    "categorical_columns = ['SpectralClass']\n",
    "\n",
    "transformer = ColumnTransformer(transformers=[\n",
    "    (\"numerical_transformer\", NumericalFeatureCleaner(), numerical_columns),\n",
    "    (\"categorical_transformer\", CategoricalFeatureCleaner(), categorical_columns)\n",
    "    ], remainder='drop')\n"
   ]
  },
  {
   "cell_type": "code",
   "execution_count": 8,
   "metadata": {},
   "outputs": [],
   "source": [
    "model = Pipeline(steps=[(\"pre-processor\", transformer),\n",
    "                       (\"model\", KNeighborsClassifier(n_neighbors=10, leaf_size=10))])\n",
    "\n"
   ]
  },
  {
   "cell_type": "markdown",
   "metadata": {},
   "source": [
    "## Defining Hyperopts- Objective"
   ]
  },
  {
   "cell_type": "code",
   "execution_count": 149,
   "metadata": {},
   "outputs": [],
   "source": [
    "# Defining Objective function whose loss we have to minimize\n",
    "def objective(args):\n",
    "\n",
    "    pipe = Pipeline(steps=[\n",
    "        ('model', args['model'])\n",
    "    ])\n",
    "    \n",
    "    pipe.set_params(**args['params'])\n",
    "\n",
    "    score = cross_val_score(pipe, transformer.fit_transform(X_train), y_train, cv=5, n_jobs=-1, error_score=0.99)\n",
    "    return {'loss': 1 - np.median(score), 'status': STATUS_OK}"
   ]
  },
  {
   "cell_type": "markdown",
   "metadata": {},
   "source": [
    "## Defining Hyperopts- Search Space"
   ]
  },
  {
   "cell_type": "code",
   "execution_count": 136,
   "metadata": {},
   "outputs": [],
   "source": [
    "# Defining Search Space\n",
    "space = hp.choice('classifiers', [\n",
    "    {\n",
    "    'model':KNeighborsClassifier(),\n",
    "    'params':{\n",
    "        'model__n_neighbors': hp.choice('knc.n_neighbors', range(2,10)),\n",
    "        'model__algorithm': hp.choice('knc.algorithm',\n",
    "                                      ['auto', 'ball_tree', 'kd_tree']),\n",
    "        'model__metric': hp.choice('knc.metric', ['chebyshev', 'minkowski'])\n",
    "    }\n",
    "    },\n",
    "    {\n",
    "    'model':SVC(),\n",
    "    'params':{\n",
    "        'model__C': hp.choice('C', np.arange(0.005,1.0,0.01)),\n",
    "        'model__kernel': hp.choice('kernel',['linear', 'rbf', 'sigmoid']),\n",
    "        'model__degree':hp.choice('degree',[2,3,4]),\n",
    "        'model__gamma': hp.uniform('gamma',0.001,1000)\n",
    "    }\n",
    "    },\n",
    "\n",
    "    {\n",
    "    'model': LogisticRegression(verbose=0),\n",
    "    'params': {\n",
    "        'model__penalty': hp.choice('lr.penalty', ['l2']),\n",
    "        'model__C': hp.choice('lr.C', np.arange(0.005,1.0,0.01))\n",
    "\n",
    "    }\n",
    "    },\n",
    "    {\n",
    "        'model': QuadraticDiscriminantAnalysis(),\n",
    "        'params': {}\n",
    "    }\n",
    "])"
   ]
  },
  {
   "cell_type": "markdown",
   "metadata": {},
   "source": [
    "## Defining Hyperopts- Trail function"
   ]
  },
  {
   "cell_type": "code",
   "execution_count": 137,
   "metadata": {},
   "outputs": [
    {
     "name": "stdout",
     "output_type": "stream",
     "text": [
      "[0.14705882 0.14705882 0.17647059 0.18181818 0.18181818]\n",
      "[0.97058824 0.94117647 1.         0.93939394 1.        ]\n",
      "[0.94117647 0.94117647 0.94117647 0.96969697 0.96969697]                        \n",
      "[0.26470588 0.32352941 0.32352941 0.33333333 0.33333333]                         \n",
      "[0.88235294 0.88235294 0.97058824 0.87878788 0.90909091]                         \n",
      "[1.         0.97058824 1.         1.         1.        ]                         \n",
      "[0.14705882 0.14705882 0.17647059 0.18181818 0.18181818]                         \n",
      "[0.35294118 0.35294118 0.5        0.42424242 0.42424242]         \n",
      "[1.         0.94117647 1.         0.96969697 0.93939394]         \n",
      "[0.14705882 0.14705882 0.17647059 0.18181818 0.18181818]         \n",
      "100%|██████████| 10/10 [00:00<00:00, 26.51trial/s, best loss: 0.0]\n"
     ]
    }
   ],
   "source": [
    "# Putting it together\n",
    "trials = Trials()\n",
    "\n",
    "best_classifier = fmin(objective, space, algo=tpe.suggest,\n",
    "                       max_evals=10, trials=trials)\n",
    "\n",
    "best_params = space_eval(space, best_classifier)"
   ]
  },
  {
   "cell_type": "code",
   "execution_count": null,
   "metadata": {},
   "outputs": [],
   "source": [
    "## Getting the best Model"
   ]
  },
  {
   "cell_type": "code",
   "execution_count": 138,
   "metadata": {},
   "outputs": [
    {
     "data": {
      "text/plain": [
       "SVC(C=0.15499999999999997, degree=2, gamma=391.91004869541047)"
      ]
     },
     "execution_count": 138,
     "metadata": {},
     "output_type": "execute_result"
    }
   ],
   "source": [
    "best_params['model']"
   ]
  },
  {
   "cell_type": "markdown",
   "metadata": {},
   "source": [
    "## Model Validation with Classification Report\n",
    "\n",
    "#### Teh objective is to demonstrate Hyperopts :) Yay! it works"
   ]
  },
  {
   "cell_type": "code",
   "execution_count": 146,
   "metadata": {},
   "outputs": [
    {
     "name": "stdout",
     "output_type": "stream",
     "text": [
      "Training Classification Report for estimator:  SVC\n",
      "\n",
      "               precision    recall  f1-score   support\n",
      "\n",
      "           0       1.00      0.75      0.86        28\n",
      "           1       1.00      0.93      0.96        28\n",
      "           2       1.00      1.00      1.00        28\n",
      "           3       1.00      1.00      1.00        28\n",
      "           4       0.76      1.00      0.86        28\n",
      "           5       1.00      1.00      1.00        28\n",
      "\n",
      "    accuracy                           0.95       168\n",
      "   macro avg       0.96      0.95      0.95       168\n",
      "weighted avg       0.96      0.95      0.95       168\n",
      "\n"
     ]
    }
   ],
   "source": [
    "X_train_tf = transformer.fit_transform(X_train, y_train)\n",
    "X_test_tf = transformer.transform(X_test)\n",
    "\n",
    "model = best_params['model'].fit(X_train_tf, y_train)\n",
    "y_pred = model.predict(X_train_tf)\n",
    "\n",
    "# TRAIN -- classification report and store predictions/ probabilities\n",
    "print('Training Classification Report for estimator: ',\n",
    "      str(model).split('(')[0])\n",
    "print('\\n', classification_report(y_train, y_pred))"
   ]
  },
  {
   "cell_type": "code",
   "execution_count": 147,
   "metadata": {},
   "outputs": [
    {
     "name": "stdout",
     "output_type": "stream",
     "text": [
      "Training Classification Report for estimator:  SVC\n",
      "\n",
      "               precision    recall  f1-score   support\n",
      "\n",
      "           0       1.00      0.92      0.96        12\n",
      "           1       1.00      0.75      0.86        12\n",
      "           2       1.00      0.42      0.59        12\n",
      "           3       1.00      0.33      0.50        12\n",
      "           4       0.28      1.00      0.44        12\n",
      "           5       0.00      0.00      0.00        12\n",
      "\n",
      "    accuracy                           0.57        72\n",
      "   macro avg       0.71      0.57      0.56        72\n",
      "weighted avg       0.71      0.57      0.56        72\n",
      "\n"
     ]
    }
   ],
   "source": [
    "X_test_tf = transformer.transform(X_test)\n",
    "\n",
    "y_pred = model.predict(X_test_tf)\n",
    "\n",
    "# TEST -- classification report and store predictions/ probabilities\n",
    "print('Training Classification Report for estimator: ',\n",
    "      str(model).split('(')[0])\n",
    "print('\\n', classification_report(y_test, y_pred))"
   ]
  }
 ],
 "metadata": {
  "kernelspec": {
   "display_name": "Python 3",
   "language": "python",
   "name": "python3"
  },
  "language_info": {
   "codemirror_mode": {
    "name": "ipython",
    "version": 3
   },
   "file_extension": ".py",
   "mimetype": "text/x-python",
   "name": "python",
   "nbconvert_exporter": "python",
   "pygments_lexer": "ipython3",
   "version": "3.8.5"
  }
 },
 "nbformat": 4,
 "nbformat_minor": 4
}
